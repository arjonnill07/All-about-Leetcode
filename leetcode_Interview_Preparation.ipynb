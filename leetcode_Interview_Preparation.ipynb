{
  "nbformat": 4,
  "nbformat_minor": 0,
  "metadata": {
    "colab": {
      "provenance": [],
      "authorship_tag": "ABX9TyNfWkrlTq5n+s/suM88Ab49",
      "include_colab_link": true
    },
    "kernelspec": {
      "name": "python3",
      "display_name": "Python 3"
    },
    "language_info": {
      "name": "python"
    }
  },
  "cells": [
    {
      "cell_type": "markdown",
      "metadata": {
        "id": "view-in-github",
        "colab_type": "text"
      },
      "source": [
        "<a href=\"https://colab.research.google.com/github/arjonnill07/All-about-Leetcode/blob/main/leetcode_Interview_Preparation.ipynb\" target=\"_parent\"><img src=\"https://colab.research.google.com/assets/colab-badge.svg\" alt=\"Open In Colab\"/></a>"
      ]
    },
    {
      "cell_type": "markdown",
      "source": [
        "# 14.1.25"
      ],
      "metadata": {
        "id": "7VCawdMiZan8"
      }
    },
    {
      "cell_type": "code",
      "execution_count": null,
      "metadata": {
        "id": "yARuq96tP3kJ"
      },
      "outputs": [],
      "source": [
        "217.Find Duplicates"
      ]
    },
    {
      "cell_type": "markdown",
      "source": [
        "# **217.Find Duplicates**"
      ],
      "metadata": {
        "id": "qq-S1lXzQAjC"
      }
    },
    {
      "cell_type": "code",
      "source": [
        "''' My solution '''\n",
        "\n",
        "from typing import List\n",
        "class Solution:\n",
        "    def containsDuplicate(self, nums: List[int]) -> bool:\n",
        "\n",
        "        sortednum = sorted(nums)\n",
        "        print(sortednum)\n",
        "\n",
        "        for i in range(len(sortednum)):\n",
        "            left ,right = i, len(sortednum)-1\n",
        "            while left < right :\n",
        "                print(sortednum[left],sortednum[right])\n",
        "                if sortednum[left] == sortednum[right]:\n",
        "\n",
        "                  return True\n",
        "                elif sortednum[left] < sortednum[right]:\n",
        "                    right -= 1\n",
        "\n",
        "\n",
        "\n",
        "        return False\n",
        "\n",
        "nums = list(map(int,input(\"nums: \").split()))\n",
        "\n",
        "Solution = Solution()\n",
        "\n",
        "if Solution.containsDuplicate(nums):\n",
        "    print(\"true\")\n",
        "else:\n",
        "    print(\"false\")\n"
      ],
      "metadata": {
        "colab": {
          "base_uri": "https://localhost:8080/"
        },
        "id": "cahcYIP_QGcK",
        "outputId": "327006cb-78dc-4c18-86ec-dc23df8fd52c"
      },
      "execution_count": null,
      "outputs": [
        {
          "output_type": "stream",
          "name": "stdout",
          "text": [
            "nums: 1 2 6 7 8 4 2\n",
            "[1, 2, 2, 4, 6, 7, 8]\n",
            "1 8\n",
            "1 7\n",
            "1 6\n",
            "1 4\n",
            "1 2\n",
            "1 2\n",
            "2 8\n",
            "2 7\n",
            "2 6\n",
            "2 4\n",
            "2 2\n",
            "true\n"
          ]
        }
      ]
    },
    {
      "cell_type": "code",
      "source": [
        "''' Best Solution '''\n",
        "\n",
        "class Solution:\n",
        "    def containsDuplicate(self, nums: List[int]) -> bool:\n",
        "\n",
        "        if len(set(nums)) == len(nums):\n",
        "            return False\n",
        "        else:\n",
        "            return True\n",
        "\n",
        "\n",
        "\n",
        "\n",
        "\n"
      ],
      "metadata": {
        "id": "9Cgs0A1ucQcw"
      },
      "execution_count": null,
      "outputs": []
    },
    {
      "cell_type": "markdown",
      "source": [
        "# **219.Find Duplicates ii**"
      ],
      "metadata": {
        "id": "i5H5a29khx73"
      }
    },
    {
      "cell_type": "code",
      "source": [
        "''' Best Solution '''\n",
        "\n",
        "\n",
        "from typing import List\n",
        "class Solution:\n",
        "    def containsNearbyDuplicate(self, nums: List[int], k: int) -> bool:\n",
        "      dict = {}\n",
        "      for i in range((len(nums))):\n",
        "        if nums[i] in dict and abs(i-dict[nums[i]])<=k:\n",
        "          return True\n",
        "        else:\n",
        "          dict[nums[i]] = i\n",
        "      return False\n",
        "\n",
        "\n",
        "\n",
        "\n",
        "\n",
        "\n",
        "\n",
        "nums = list(map(int,input(\"nums: \").split()))\n",
        "k = int(input(\"k: \"))\n",
        "\n",
        "Solution = Solution()\n",
        "\n",
        "if Solution.containsNearbyDuplicate(nums,k):\n",
        "    print(\"true\")\n",
        "else:\n",
        "    print(\"false\")\n",
        "\n"
      ],
      "metadata": {
        "colab": {
          "base_uri": "https://localhost:8080/"
        },
        "id": "KJ0wUbPwYKka",
        "outputId": "7836d4f8-9b19-49fe-dff3-61aaff3d37e2"
      },
      "execution_count": null,
      "outputs": [
        {
          "output_type": "stream",
          "name": "stdout",
          "text": [
            "nums: 1 0 1 1\n",
            "k: 2\n",
            "true\n"
          ]
        }
      ]
    },
    {
      "cell_type": "code",
      "source": [
        "''' My solution '''\n",
        "\n",
        "from typing import List\n",
        "class Solution:\n",
        "    def containsNearbyDuplicate(self, nums: List[int], k: int) -> bool:\n",
        "      for i in range (len(nums)):\n",
        "        left ,right = i, len(nums)-1\n",
        "        #print(left,right)\n",
        "        while left < right :\n",
        "            '''print(nums[left],nums[right])'''\n",
        "            if nums[left] == nums[right] and abs(left-right)<=k:\n",
        "\n",
        "                return True\n",
        "            else:\n",
        "                right -= 1\n",
        "\n",
        "\n",
        "\n",
        "\n",
        "\n",
        "\n",
        "\n",
        "      return False\n",
        "\n",
        "\n",
        "\n",
        "\n",
        "\n",
        "\n",
        "\n",
        "\n",
        "\n",
        "nums = list(map(int,input(\"nums: \").split()))\n",
        "k = int(input(\"k: \"))\n",
        "\n",
        "Solution = Solution()\n",
        "\n",
        "if Solution.containsNearbyDuplicate(nums,k):\n",
        "    print(\"true\")\n",
        "else:\n",
        "    print(\"false\")\n"
      ],
      "metadata": {
        "colab": {
          "base_uri": "https://localhost:8080/"
        },
        "id": "pxDJG7lrh10G",
        "outputId": "ac72b7fb-c252-4051-f2bf-fa6ac3324fa5"
      },
      "execution_count": null,
      "outputs": [
        {
          "output_type": "stream",
          "name": "stdout",
          "text": [
            "nums: 1 2 1 \n",
            "k: 1\n",
            "false\n"
          ]
        }
      ]
    },
    {
      "cell_type": "markdown",
      "source": [
        "anagram"
      ],
      "metadata": {
        "id": "y3q-FZ7xMEMB"
      }
    },
    {
      "cell_type": "code",
      "source": [
        "from collections import defaultdict\n",
        "class Solution:\n",
        "    def groupAnagrams(self, strs: List[str]) -> List[List[str]]:\n",
        "        annagram_dict = defaultdict(list)\n",
        "        result = []\n",
        "\n",
        "        for s in strs:\n",
        "            sorted_s = tuple(sorted(s))\n",
        "            annagram_dict[sorted_s].append(s)\n",
        "        for i in annagram_dict.values():\n",
        "            result.append(i)\n",
        "\n",
        "        return result\n",
        "\n",
        "strs = list(map(str,input(\"list of strings: \").split()))\n",
        "\n",
        "\n",
        "Solution = Solution()\n",
        "\n",
        "result = Solution.groupAnagrams(strs)\n",
        "\n",
        "print(result)\n",
        "\n",
        "\n"
      ],
      "metadata": {
        "colab": {
          "base_uri": "https://localhost:8080/"
        },
        "id": "1xRCY-NMMGu9",
        "outputId": "683287a3-47fa-40ab-9a0d-20f6bb0383a8"
      },
      "execution_count": null,
      "outputs": [
        {
          "output_type": "stream",
          "name": "stdout",
          "text": [
            "list of strings: bat cat eat tea ate\n",
            "[['bat'], ['cat'], ['eat', 'tea', 'ate']]\n"
          ]
        }
      ]
    },
    {
      "cell_type": "markdown",
      "source": [
        "# 15.1.25"
      ],
      "metadata": {
        "id": "ZX8kDfquYmzt"
      }
    },
    {
      "cell_type": "markdown",
      "source": [
        "771.jewels and stones\n"
      ],
      "metadata": {
        "id": "4q46prk1YrYB"
      }
    },
    {
      "cell_type": "code",
      "source": [
        "from collections import defaultdict\n",
        "class Solution:\n",
        "    def numJewelsInStones(self, jewels: str, stones: str) -> int:\n",
        "        jewels_dict = defaultdict(list)\n",
        "        no_of_jewels = 0\n",
        "        s_jewel = tuple(sorted(jewels))\n",
        "\n",
        "        for j in s_jewel:\n",
        "            jewels_dict[j].append(j)\n",
        "\n",
        "        for s in stones:\n",
        "            if s in jewels_dict:\n",
        "                no_of_jewels +=1\n",
        "            else:\n",
        "                continue\n",
        "        return no_of_jewels\n",
        "\n",
        "jewels, stones = map(str, input().split())\n",
        "\n",
        "Solution = Solution()\n",
        "\n",
        "result = Solution.numJewelsInStones(jewels,stones)\n",
        "\n",
        "print(result)\n"
      ],
      "metadata": {
        "colab": {
          "base_uri": "https://localhost:8080/"
        },
        "id": "yFIXUQSHYy6g",
        "outputId": "95b39694-3b00-4e10-d73f-825db2ce18c0"
      },
      "execution_count": null,
      "outputs": [
        {
          "output_type": "stream",
          "name": "stdout",
          "text": [
            "z ZZ\n",
            "0\n"
          ]
        }
      ]
    },
    {
      "cell_type": "code",
      "source": [],
      "metadata": {
        "id": "o3N_1duQZffU"
      },
      "execution_count": null,
      "outputs": []
    },
    {
      "cell_type": "markdown",
      "source": [
        "# **16.1.25**"
      ],
      "metadata": {
        "id": "zh9l5hr6C0q5"
      }
    },
    {
      "cell_type": "markdown",
      "source": [
        "383. Ransom Note\n"
      ],
      "metadata": {
        "id": "D1CofjPZwvjs"
      }
    },
    {
      "cell_type": "code",
      "source": [
        "#Initial thoughts\n",
        "from collections import Counter\n",
        "class Solution:\n",
        "    def canConstruct(self, ransomNote: str, magazine: str) -> bool:\n",
        "\n",
        "        '''ransomnote_dict = defaultdict(list)\n",
        "        magazine_dict = defaultdict(list)\n",
        "\n",
        "        for s in ransomNote:\n",
        "            ransomnote_dict[s].append(s)\n",
        "        for m i magazine:\n",
        "            maganize_dict[m].append(m)'''\n",
        "\n",
        "        ransomecounter = Counter(ransomeNote)\n",
        "        magcounter == Counter(maganize)\n",
        "\n",
        "        commonkeys = set(ransomecounter.keys()) & set(magcounter.keys())\n",
        "\n",
        "        if len(commonkeys) != 0:\n",
        "            for key in commonkeys:\n",
        "                if ransomecounter[key] <= magcounter[key]:\n",
        "                    return True\n",
        "                else:\n",
        "                    return False\n",
        "\n",
        "\n",
        "       ''' for key,value in ransomecounert.items() & magcounter.items():\n",
        "            if ransomecounter == magcounter[key] and'''\n",
        "\n",
        "\n"
      ],
      "metadata": {
        "colab": {
          "base_uri": "https://localhost:8080/",
          "height": 106
        },
        "id": "z5ICdx0nw1qW",
        "outputId": "e7840f64-8ae5-412f-b9c6-a4bc2118cd60"
      },
      "execution_count": null,
      "outputs": [
        {
          "output_type": "error",
          "ename": "IndentationError",
          "evalue": "unindent does not match any outer indentation level (<tokenize>, line 26)",
          "traceback": [
            "\u001b[0;36m  File \u001b[0;32m\"<tokenize>\"\u001b[0;36m, line \u001b[0;32m26\u001b[0m\n\u001b[0;31m    ''' for key,value in ransomecounert.items() & magcounter.items():\u001b[0m\n\u001b[0m    ^\u001b[0m\n\u001b[0;31mIndentationError\u001b[0m\u001b[0;31m:\u001b[0m unindent does not match any outer indentation level\n"
          ]
        }
      ]
    },
    {
      "cell_type": "code",
      "source": [
        "#My Solution\n",
        "from collections import Counter\n",
        "class Solution:\n",
        "    def canConstruct(self, ransomNote: str, magazine: str) -> bool:\n",
        "\n",
        "\n",
        "\n",
        "        ransomecounter = Counter(ransomNote)\n",
        "        print(sorted(ransomecounter))\n",
        "        print(ransomecounter)\n",
        "        magcounter = Counter(magazine)\n",
        "        print(sorted(magcounter))\n",
        "        print(magcounter)\n",
        "        commonkeys = set(ransomecounter.keys()) & set(magcounter.keys())\n",
        "        print(commonkeys)\n",
        "\n",
        "        if len(commonkeys) != 0:\n",
        "            for key in commonkeys:\n",
        "                if ransomecounter[key] <= magcounter[key]:\n",
        "                    return True\n",
        "                else:\n",
        "                    return False\n",
        "        else:\n",
        "            return False\n",
        "\n",
        "ransomNote, magazine = map(str, input().split())\n",
        "\n",
        "Solution = Solution()\n",
        "\n",
        "result = Solution.canConstruct(ransomNote,magazine)\n",
        "\n",
        "print(result)\n",
        "\n",
        "\n",
        "\n"
      ],
      "metadata": {
        "colab": {
          "base_uri": "https://localhost:8080/"
        },
        "id": "8uO8e8LdxZ4v",
        "outputId": "318caeba-17f7-40a4-d23b-6ef34a1bd815"
      },
      "execution_count": null,
      "outputs": [
        {
          "output_type": "stream",
          "name": "stdout",
          "text": [
            "fihjjjjei hjibagacbhadfaefdjaeaebgi\n",
            "['e', 'f', 'h', 'i', 'j']\n",
            "Counter({'j': 4, 'i': 2, 'f': 1, 'h': 1, 'e': 1})\n",
            "['a', 'b', 'c', 'd', 'e', 'f', 'g', 'h', 'i', 'j']\n",
            "Counter({'a': 6, 'b': 3, 'e': 3, 'h': 2, 'j': 2, 'i': 2, 'g': 2, 'd': 2, 'f': 2, 'c': 1})\n",
            "{'j', 'f', 'e', 'i', 'h'}\n",
            "False\n"
          ]
        }
      ]
    },
    {
      "cell_type": "code",
      "source": [
        "#Best Solution\n",
        "class Solution:\n",
        "    def canConstruct(self, ransomNote: str, magazine: str) -> bool:\n",
        "        magazineStruct = {}\n",
        "\n",
        "        for ch in magazine:\n",
        "            if ch in magazineStruct:\n",
        "                magazineStruct[ch] += 1\n",
        "            else:\n",
        "                magazineStruct[ch] = 1\n",
        "\n",
        "        for ch in ransomNote:\n",
        "            if ch in magazineStruct:\n",
        "                if magazineStruct[ch] == 1:\n",
        "                    del magazineStruct[ch]\n",
        "                else:\n",
        "                    magazineStruct[ch] -= 1\n",
        "            else:\n",
        "                return False\n"
      ],
      "metadata": {
        "id": "TUJtnX9q85_L"
      },
      "execution_count": null,
      "outputs": []
    },
    {
      "cell_type": "markdown",
      "source": [
        "242. Valid Anagram"
      ],
      "metadata": {
        "id": "ZeclkmcC_ypj"
      }
    },
    {
      "cell_type": "code",
      "source": [
        "#My solution\n",
        "from collections import Counter\n",
        "class Solution:\n",
        "    def isAnagram(self, s: str, t: str) -> bool:\n",
        "\n",
        "        s_counter = Counter(s)\n",
        "        t_counter = Counter(t)\n",
        "\n",
        "        if s_counter == t_counter:\n",
        "            return True\n",
        "        else:\n",
        "            return False\n",
        "\n",
        "\n",
        "s,t = map(str,input().split())\n",
        "\n",
        "Solution = Solution()\n",
        "\n",
        "result = Solution.isAnagram(s,t)\n",
        "\n",
        "print(result)"
      ],
      "metadata": {
        "colab": {
          "base_uri": "https://localhost:8080/"
        },
        "id": "vx3OeyhH_4EB",
        "outputId": "108cb962-512b-4706-dc12-9a6eea44e14b"
      },
      "execution_count": null,
      "outputs": [
        {
          "output_type": "stream",
          "name": "stdout",
          "text": [
            "anagram nagaram\n",
            "True\n"
          ]
        }
      ]
    },
    {
      "cell_type": "code",
      "source": [
        "#Best Solution\n",
        "class Solution:\n",
        "    def isAnagram(self, s: str, t: str) -> bool:\n",
        "        if len(s)!=len(t):\n",
        "            return False\n",
        "        for idx in set(s):\n",
        "            if s.count(idx)!=t.count(idx):\n",
        "                return False\n",
        "        return True"
      ],
      "metadata": {
        "id": "CbiBq9aECi77"
      },
      "execution_count": null,
      "outputs": []
    },
    {
      "cell_type": "markdown",
      "source": [],
      "metadata": {
        "id": "3AsZuJYtGtoo"
      }
    },
    {
      "cell_type": "code",
      "source": [
        "#My solution\n",
        "from collections import Counter\n",
        "class Solution:\n",
        "    def maxNumberOfBalloons(self, text: str) -> int:\n",
        "        text_counter = Counter(str(text))\n",
        "        print(text_counter)\n",
        "        balloon_counter = Counter('balloon')\n",
        "        print(balloon_counter)\n",
        "        s = 'balloon'\n",
        "        s_counter = Counter(s)\n",
        "\n",
        "\n",
        "\n",
        "\n",
        "text = map(str,input().split())\n",
        "\n",
        "Solution = Solution()\n",
        "\n",
        "result = Solution.maxNumberOfBalloons(text)\n",
        "\n",
        "print(result)"
      ],
      "metadata": {
        "colab": {
          "base_uri": "https://localhost:8080/"
        },
        "id": "IjCgMoTiGuJg",
        "outputId": "2685f95c-11e7-4021-cf97-d9bb9fe7fe26"
      },
      "execution_count": null,
      "outputs": [
        {
          "output_type": "stream",
          "name": "stdout",
          "text": [
            "loonbalxballpoon\n",
            "Counter({'a': 4, ' ': 3, 'e': 3, 'b': 2, 't': 2, '0': 2, 'f': 2, '<': 1, 'm': 1, 'p': 1, 'o': 1, 'j': 1, 'c': 1, 'x': 1, '7': 1, '5': 1, '1': 1, '2': 1, '>': 1})\n",
            "Counter({'l': 2, 'o': 2, 'b': 1, 'a': 1, 'n': 1})\n",
            "None\n"
          ]
        }
      ]
    }
  ]
}